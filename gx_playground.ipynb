{
 "cells": [
  {
   "cell_type": "code",
   "execution_count": null,
   "id": "719fb366-d40b-477e-aff7-f66e89d49092",
   "metadata": {},
   "outputs": [],
   "source": [
    "import great_expectations as ge\n",
    "\n",
    "context = ge.get_context()"
   ]
  },
  {
   "cell_type": "code",
   "execution_count": null,
   "id": "9834008f-5f33-43c8-a3c2-bd6b1025e258",
   "metadata": {
    "scrolled": true
   },
   "outputs": [],
   "source": [
    "context.datasources"
   ]
  },
  {
   "cell_type": "code",
   "execution_count": null,
   "id": "e55e41d9-7fb4-4182-bbb0-248f1f37e547",
   "metadata": {},
   "outputs": [],
   "source": [
    "datasource_name = \"sf_datasource\"\n",
    "sf_datasource = context.get_datasource(datasource_name)"
   ]
  },
  {
   "cell_type": "code",
   "execution_count": null,
   "id": "5e574310-8a83-41ea-8fc1-e955bd4fc9f3",
   "metadata": {},
   "outputs": [],
   "source": [
    "customer_asset_name = \"customer_asset\"\n",
    "customer_query = \"select * from customer\"\n",
    "\n",
    "customer_asset = sf_datasource.add_query_asset(name=customer_asset_name, query=customer_query, )"
   ]
  },
  {
   "cell_type": "code",
   "execution_count": null,
   "id": "88fbb23e-454e-4ca1-84d3-5238b9279fff",
   "metadata": {},
   "outputs": [],
   "source": [
    "orders_asset_name = \"orders_asset\"\n",
    "orders_table = \"orders\"\n",
    "\n",
    "orders_asset = sf_datasource.add_table_asset(name=orders_asset_name, table_name=orders_table)"
   ]
  },
  {
   "cell_type": "code",
   "execution_count": null,
   "id": "3d14ba45-0289-4c36-a800-962d630143d0",
   "metadata": {},
   "outputs": [],
   "source": [
    "region_asset_name = \"region_asset\"\n",
    "region_table = \"region\"\n",
    "\n",
    "region_asset = sf_datasource.add_table_asset(name=region_asset_name, table_name=region_table)"
   ]
  },
  {
   "cell_type": "code",
   "execution_count": null,
   "id": "64999934-7195-4e83-a276-b1b8fe6e98d7",
   "metadata": {},
   "outputs": [],
   "source": [
    "orders_asset"
   ]
  },
  {
   "cell_type": "code",
   "execution_count": null,
   "id": "94d01d87-441e-4eef-a8fc-eccbef3b6098",
   "metadata": {},
   "outputs": [],
   "source": []
  },
  {
   "cell_type": "code",
   "execution_count": null,
   "id": "93ce3b3a-555d-4204-8650-e02e64c1ef25",
   "metadata": {},
   "outputs": [],
   "source": [
    "customer_asset"
   ]
  },
  {
   "cell_type": "code",
   "execution_count": null,
   "id": "3b10165f-f270-41b1-a35f-44aaf952b999",
   "metadata": {},
   "outputs": [],
   "source": [
    "customer_asset.batch_request_options"
   ]
  },
  {
   "cell_type": "code",
   "execution_count": null,
   "id": "1fa11568-1638-4070-9419-d85e93f4da1a",
   "metadata": {},
   "outputs": [],
   "source": [
    "orders_asset.batch_request_options"
   ]
  },
  {
   "cell_type": "code",
   "execution_count": null,
   "id": "17f9e477-a3be-46db-b22f-eae2090ab891",
   "metadata": {},
   "outputs": [],
   "source": [
    "customer_batch_request = customer_asset.build_batch_request()\n",
    "customer_batch_request"
   ]
  },
  {
   "cell_type": "code",
   "execution_count": null,
   "id": "ccfb30f8-de5a-422d-b29d-b3aea4959b37",
   "metadata": {},
   "outputs": [],
   "source": [
    "orders_batch_request = orders_asset.build_batch_request()\n",
    "orders_batch_request"
   ]
  },
  {
   "cell_type": "code",
   "execution_count": null,
   "id": "b328cc12-b628-41f9-86a7-01f953c9506f",
   "metadata": {},
   "outputs": [],
   "source": [
    "customer_batches = customer_asset.get_batch_list_from_batch_request(customer_batch_request)\n",
    "\n",
    "for batch in customer_batches:\n",
    "    print(batch.batch_spec)"
   ]
  },
  {
   "cell_type": "code",
   "execution_count": null,
   "id": "cf42ad80-8b4f-4f3f-85e0-b4c98a9cf218",
   "metadata": {
    "scrolled": true
   },
   "outputs": [],
   "source": [
    "orders_batches = orders_asset.get_batch_list_from_batch_request(orders_batch_request)\n",
    "\n",
    "for batch in orders_batches:\n",
    "    print(batch.batch_spec)"
   ]
  },
  {
   "cell_type": "code",
   "execution_count": null,
   "id": "94be7608-7adb-4548-9903-ba9530cc2daf",
   "metadata": {},
   "outputs": [],
   "source": [
    "%%markdown\n",
    "\n",
    "## Adding splitter"
   ]
  },
  {
   "cell_type": "code",
   "execution_count": null,
   "id": "f76d502c-573d-4594-a8b7-e267acfb9e96",
   "metadata": {},
   "outputs": [],
   "source": [
    "orders_asset"
   ]
  },
  {
   "cell_type": "code",
   "execution_count": null,
   "id": "d6b235c9-62e5-495a-9f4f-5e0572399617",
   "metadata": {},
   "outputs": [],
   "source": [
    "orders_asset.add_splitter_year_and_month(\"o_orderdate\")"
   ]
  },
  {
   "cell_type": "code",
   "execution_count": null,
   "id": "54d2ae80-7cae-4bd5-988b-c1a7fed51bb5",
   "metadata": {},
   "outputs": [],
   "source": [
    "orders_asset.batch_request_options"
   ]
  },
  {
   "cell_type": "code",
   "execution_count": null,
   "id": "10bbdb5f-274f-4a47-a6fe-7039a804609f",
   "metadata": {},
   "outputs": [],
   "source": [
    "orders_batch_request = orders_asset.build_batch_request()\n",
    "orders_batch_request"
   ]
  },
  {
   "cell_type": "code",
   "execution_count": null,
   "id": "14302300-a415-4e12-922f-c1a75c2eaf96",
   "metadata": {},
   "outputs": [],
   "source": [
    "orders_batches = orders_asset.get_batch_list_from_batch_request(orders_batch_request)\n",
    "\n",
    "ls = \"\"\n",
    "for batch in orders_batches:\n",
    "    ls = batch\n",
    "    break"
   ]
  },
  {
   "cell_type": "code",
   "execution_count": 84,
   "id": "c11906a4-49f0-4a94-bed0-f8bbf2db62fa",
   "metadata": {},
   "outputs": [
    {
     "name": "stdout",
     "output_type": "stream",
     "text": [
      "Help on method add_splitter_column_value in module great_expectations.datasource.fluent.sql_datasource:\n",
      "\n",
      "add_splitter_column_value(column_name: 'str') -> 'Self' method of great_expectations.datasource.fluent.sql_datasource.TableAsset instance\n",
      "    --Public API--Associates a column value splitter with this sql asset.\n",
      "    Args:\n",
      "        column_name: A column name of the column to split on.\n",
      "    Returns:\n",
      "        This sql asset so we can use this method fluently.\n",
      "\n"
     ]
    }
   ],
   "source": [
    "region_asset.add_splitter_column_value"
   ]
  },
  {
   "cell_type": "code",
   "execution_count": 79,
   "id": "cde23a20-d64c-4728-9a86-1f9453f1a4f1",
   "metadata": {},
   "outputs": [
    {
     "data": {
      "text/plain": [
       "('r_regionkey',)"
      ]
     },
     "execution_count": 79,
     "metadata": {},
     "output_type": "execute_result"
    }
   ],
   "source": [
    "region_asset.batch_request_options"
   ]
  },
  {
   "cell_type": "code",
   "execution_count": 81,
   "id": "bbcb254a-6a30-42ee-a353-f1da446a343e",
   "metadata": {},
   "outputs": [],
   "source": [
    "region_batch_request = region_asset.build_batch_request({\"r_regionkey\":1})"
   ]
  },
  {
   "cell_type": "code",
   "execution_count": 83,
   "id": "487f9a39-a393-4de9-9c7d-87b4ca97ea5d",
   "metadata": {},
   "outputs": [],
   "source": [
    "region_batches = region_asset.get_batch_list_from_batch_request(region_batch_request)\n",
    "\n",
    "for batch in orders_batches:\n",
    "    if batch.batch_spec[\"data_asset_name\"] == region_asset_name:\n",
    "        print(batch.batch_spec)"
   ]
  },
  {
   "cell_type": "code",
   "execution_count": null,
   "id": "f25484a1-7525-4cb7-9125-f87c1c4a3434",
   "metadata": {},
   "outputs": [],
   "source": []
  },
  {
   "cell_type": "code",
   "execution_count": 85,
   "id": "79768b82-c644-4606-a34f-29432a79851b",
   "metadata": {},
   "outputs": [
    {
     "data": {
      "text/markdown": [
       "\n",
       "## Create Expectation Suite and Expectations\n"
      ],
      "text/plain": [
       "<IPython.core.display.Markdown object>"
      ]
     },
     "metadata": {},
     "output_type": "display_data"
    }
   ],
   "source": [
    "%%markdown\n",
    "\n",
    "## Create Expectation Suite and Expectations"
   ]
  },
  {
   "cell_type": "code",
   "execution_count": 87,
   "id": "b1ee39a2-b8fe-42ac-90ca-c30bd0a0264f",
   "metadata": {},
   "outputs": [],
   "source": [
    "tpch_suite_name = \"tpch_expectation_suite\"\n",
    "tpch_suite = context.add_or_update_expectation_suite(expectation_suite_name= tpch_suite_name)"
   ]
  },
  {
   "cell_type": "code",
   "execution_count": 88,
   "id": "9741194c-eb62-4264-92f2-9fab9020a61b",
   "metadata": {},
   "outputs": [],
   "source": [
    "from great_expectations.expectations.expectation import (\n",
    "    ExpectationConfiguration,\n",
    ")"
   ]
  },
  {
   "cell_type": "code",
   "execution_count": 91,
   "id": "d1a48abf-c793-4098-b039-0ec15b9ad6dd",
   "metadata": {
    "scrolled": true
   },
   "outputs": [],
   "source": [
    "order_custkey_is_not_null = ExpectationConfiguration(\n",
    "        expectation_type=\"expect_column_values_to_not_be_null\",\n",
    "    kwargs={\n",
    "        \"column\": \"o_custkey\",\n",
    "        \"mostly\": 0.95,\n",
    "    },\n",
    ")   "
   ]
  },
  {
   "cell_type": "code",
   "execution_count": 93,
   "id": "00ae04e7-4a39-479a-8814-24899a871e1f",
   "metadata": {},
   "outputs": [
    {
     "data": {
      "text/plain": [
       "{\"expectation_type\": \"expect_column_values_to_not_be_null\", \"kwargs\": {\"column\": \"o_custkey\", \"mostly\": 0.95}, \"meta\": {}}"
      ]
     },
     "execution_count": 93,
     "metadata": {},
     "output_type": "execute_result"
    }
   ],
   "source": [
    "tpch_suite.add_expectation(\n",
    "    expectation_configuration=order_custkey_is_not_null\n",
    ")"
   ]
  },
  {
   "cell_type": "code",
   "execution_count": 95,
   "id": "9375d80b-cd97-4e2a-8337-476df52ef6d8",
   "metadata": {},
   "outputs": [],
   "source": [
    "orders_checkpoint = context.add_or_update_checkpoint(\n",
    "    name=\"order_checkpoint\",\n",
    "    validations=[\n",
    "        {\n",
    "            \"batch_request\": orders_batch_request,\n",
    "            \"expectation_suite_name\": tpch_suite_name,\n",
    "        },\n",
    "    ],\n",
    ")\n",
    "    "
   ]
  },
  {
   "cell_type": "code",
   "execution_count": 96,
   "id": "a73e1bb3-77e9-4916-8b43-921bb88bce02",
   "metadata": {},
   "outputs": [
    {
     "data": {
      "application/vnd.jupyter.widget-view+json": {
       "model_id": "6f8386d7add04741bd730b434366f4ce",
       "version_major": 2,
       "version_minor": 0
      },
      "text/plain": [
       "Calculating Metrics: 0it [00:00, ?it/s]"
      ]
     },
     "metadata": {},
     "output_type": "display_data"
    },
    {
     "data": {
      "text/plain": [
       "{\n",
       "  \"run_id\": {\n",
       "    \"run_name\": null,\n",
       "    \"run_time\": \"2024-02-15T09:51:37.187400+00:00\"\n",
       "  },\n",
       "  \"run_results\": {\n",
       "    \"ValidationResultIdentifier::tpch_expectation_suite/__none__/20240215T095137.187400Z/sf_datasource-orders_asset-year_1995-month_12\": {\n",
       "      \"validation_result\": {\n",
       "        \"success\": true,\n",
       "        \"results\": [],\n",
       "        \"evaluation_parameters\": {},\n",
       "        \"statistics\": {\n",
       "          \"evaluated_expectations\": 0,\n",
       "          \"successful_expectations\": 0,\n",
       "          \"unsuccessful_expectations\": 0,\n",
       "          \"success_percent\": null\n",
       "        },\n",
       "        \"meta\": {\n",
       "          \"great_expectations_version\": \"0.18.8\",\n",
       "          \"expectation_suite_name\": \"tpch_expectation_suite\",\n",
       "          \"run_id\": {\n",
       "            \"run_name\": null,\n",
       "            \"run_time\": \"2024-02-15T09:51:37.187400+00:00\"\n",
       "          },\n",
       "          \"batch_spec\": {\n",
       "            \"type\": \"table\",\n",
       "            \"data_asset_name\": \"orders_asset\",\n",
       "            \"table_name\": \"orders\",\n",
       "            \"schema_name\": null,\n",
       "            \"batch_identifiers\": {\n",
       "              \"o_orderdate\": {\n",
       "                \"year\": 1995,\n",
       "                \"month\": 12\n",
       "              }\n",
       "            },\n",
       "            \"splitter_method\": \"split_on_year_and_month\",\n",
       "            \"splitter_kwargs\": {\n",
       "              \"column_name\": \"o_orderdate\"\n",
       "            }\n",
       "          },\n",
       "          \"batch_markers\": {\n",
       "            \"ge_load_time\": \"20240215T095138.429877Z\"\n",
       "          },\n",
       "          \"active_batch_definition\": {\n",
       "            \"datasource_name\": \"sf_datasource\",\n",
       "            \"data_connector_name\": \"fluent\",\n",
       "            \"data_asset_name\": \"orders_asset\",\n",
       "            \"batch_identifiers\": {\n",
       "              \"o_orderdate\": {\n",
       "                \"year\": 1995,\n",
       "                \"month\": 12\n",
       "              }\n",
       "            }\n",
       "          },\n",
       "          \"validation_time\": \"20240215T095138.449755Z\",\n",
       "          \"checkpoint_name\": \"order_checkpoint\",\n",
       "          \"validation_id\": null,\n",
       "          \"checkpoint_id\": null\n",
       "        }\n",
       "      },\n",
       "      \"actions_results\": {\n",
       "        \"store_validation_result\": {\n",
       "          \"class\": \"StoreValidationResultAction\"\n",
       "        },\n",
       "        \"store_evaluation_params\": {\n",
       "          \"class\": \"StoreEvaluationParametersAction\"\n",
       "        },\n",
       "        \"update_data_docs\": {\n",
       "          \"test_data_docs\": \"https://gxpocstore.blob.core.windows.net/$web/validations/tpch_expectation_suite/__none__/20240215T095137.187400Z/sf_datasource-orders_asset-year_1995-month_12.html\",\n",
       "          \"class\": \"UpdateDataDocsAction\"\n",
       "        }\n",
       "      }\n",
       "    }\n",
       "  },\n",
       "  \"checkpoint_config\": {\n",
       "    \"default_validation_id\": null,\n",
       "    \"expectation_suite_ge_cloud_id\": null,\n",
       "    \"notify_on\": null,\n",
       "    \"class_name\": \"Checkpoint\",\n",
       "    \"notify_with\": null,\n",
       "    \"config_version\": 1.0,\n",
       "    \"module_name\": \"great_expectations.checkpoint\",\n",
       "    \"name\": \"order_checkpoint\",\n",
       "    \"runtime_configuration\": {},\n",
       "    \"site_names\": null,\n",
       "    \"ge_cloud_id\": null,\n",
       "    \"profilers\": [],\n",
       "    \"evaluation_parameters\": {},\n",
       "    \"slack_webhook\": null,\n",
       "    \"batch_request\": {},\n",
       "    \"template_name\": null,\n",
       "    \"validations\": [\n",
       "      {\n",
       "        \"expectation_suite_ge_cloud_id\": null,\n",
       "        \"name\": null,\n",
       "        \"id\": null,\n",
       "        \"expectation_suite_name\": \"tpch_expectation_suite\",\n",
       "        \"batch_request\": {\n",
       "          \"datasource_name\": \"sf_datasource\",\n",
       "          \"data_asset_name\": \"orders_asset\",\n",
       "          \"options\": {},\n",
       "          \"batch_slice\": null\n",
       "        }\n",
       "      }\n",
       "    ],\n",
       "    \"run_name_template\": null,\n",
       "    \"expectation_suite_name\": null,\n",
       "    \"action_list\": [\n",
       "      {\n",
       "        \"name\": \"store_validation_result\",\n",
       "        \"action\": {\n",
       "          \"class_name\": \"StoreValidationResultAction\"\n",
       "        }\n",
       "      },\n",
       "      {\n",
       "        \"name\": \"store_evaluation_params\",\n",
       "        \"action\": {\n",
       "          \"class_name\": \"StoreEvaluationParametersAction\"\n",
       "        }\n",
       "      },\n",
       "      {\n",
       "        \"name\": \"update_data_docs\",\n",
       "        \"action\": {\n",
       "          \"class_name\": \"UpdateDataDocsAction\"\n",
       "        }\n",
       "      }\n",
       "    ]\n",
       "  },\n",
       "  \"success\": true\n",
       "}"
      ]
     },
     "execution_count": 96,
     "metadata": {},
     "output_type": "execute_result"
    }
   ],
   "source": [
    "orders_checkpoint.run()"
   ]
  }
 ],
 "metadata": {
  "kernelspec": {
   "display_name": "Python 3 (ipykernel)",
   "language": "python",
   "name": "python3"
  },
  "language_info": {
   "codemirror_mode": {
    "name": "ipython",
    "version": 3
   },
   "file_extension": ".py",
   "mimetype": "text/x-python",
   "name": "python",
   "nbconvert_exporter": "python",
   "pygments_lexer": "ipython3",
   "version": "3.10.13"
  }
 },
 "nbformat": 4,
 "nbformat_minor": 5
}
