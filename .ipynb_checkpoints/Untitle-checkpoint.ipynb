{
 "cells": [
  {
   "cell_type": "code",
   "execution_count": null,
   "id": "944c3cda-6964-41d8-84d0-a5f38cc3d133",
   "metadata": {},
   "outputs": [],
   "source": [
    "%%markdown\n",
    "\n",
    "## Initialize and Instantiate a File System Data Context"
   ]
  },
  {
   "cell_type": "code",
   "execution_count": null,
   "id": "d05f1b1a",
   "metadata": {},
   "outputs": [],
   "source": [
    "import great_expectations as gx\n",
    "\n",
    "context = gx.get_context().convert_to_file_context()\n",
    "\n",
    "context"
   ]
  },
  {
   "cell_type": "code",
   "execution_count": null,
   "id": "64a346b1",
   "metadata": {},
   "outputs": [],
   "source": [
    "%%markdown\n",
    "## Connect to a Data Source (Snowflake)"
   ]
  },
  {
   "cell_type": "code",
   "execution_count": null,
   "id": "31f0e317",
   "metadata": {},
   "outputs": [],
   "source": [
    "import urllib.parse\n",
    "\n",
    "# username = urllib.parse.quote(\"username\")\n",
    "# password = urllib.parse.quote(\"password\")\n",
    "# account = \"account_locator\"\n",
    "# database = \"database\"\n",
    "# schema = \"schema\"\n",
    "# warehouse = \"warehoues\"\n",
    "# role = \"role\"\n",
    "\n",
    "sf_connection_string = f\"snowflake://{username}:{password}@{account}/{database}/{schema}?warehouse={warehouse}&role={role}\"\n",
    "\n",
    "datasource_name = \"SF_DATASOURCE\"\n",
    "\n",
    "datasource = context.sources.add_or_update_snowflake(\n",
    "    name=datasource_name, \n",
    "    connection_string=sf_connection_string\n",
    ")"
   ]
  },
  {
   "cell_type": "code",
   "execution_count": null,
   "id": "d27fb495",
   "metadata": {},
   "outputs": [],
   "source": [
    "%%markdown\n",
    "\n",
    "## Manage Data Assets"
   ]
  },
  {
   "cell_type": "code",
   "execution_count": null,
   "id": "25b8da7d",
   "metadata": {},
   "outputs": [],
   "source": [
    "datasoure = context.get_datasource(datasource_name)\n",
    "\n",
    "datasource"
   ]
  },
  {
   "cell_type": "code",
   "execution_count": null,
   "id": "41f22f0e",
   "metadata": {},
   "outputs": [],
   "source": [
    "asset_name = \"customer_asset\"\n",
    "query = \"select * from customer\"\n",
    "\n",
    "sf_query_asset = datasource.add_query_asset(name=asset_name, query=query)\n"
   ]
  },
  {
   "cell_type": "code",
   "execution_count": null,
   "id": "e28d7904",
   "metadata": {},
   "outputs": [],
   "source": [
    "%%markdown\n",
    "\n",
    "## Build Batch Request"
   ]
  },
  {
   "cell_type": "code",
   "execution_count": null,
   "id": "ea29d37d",
   "metadata": {},
   "outputs": [],
   "source": [
    "sf_batch_request = sf_query_asset.build_batch_request()\n",
    "\n",
    "sf_batch_request"
   ]
  },
  {
   "cell_type": "code",
   "execution_count": null,
   "id": "2df07030",
   "metadata": {},
   "outputs": [],
   "source": [
    "batches = sf_query_asset.get_batch_list_from_batch_request(sf_batch_request)\n",
    "\n",
    "for batch in batches:\n",
    "    print(batch.batch_spec)"
   ]
  },
  {
   "cell_type": "code",
   "execution_count": null,
   "id": "f06f9103",
   "metadata": {},
   "outputs": [],
   "source": [
    "%%markdown\n",
    "\n",
    "## Create Expectations\n"
   ]
  },
  {
   "cell_type": "code",
   "execution_count": null,
   "id": "b2da83b7",
   "metadata": {},
   "outputs": [],
   "source": [
    "suite_name = \"sf_suite\"\n",
    "suite = context.add_expectation_suite(expectation_suite_name= suite_name)"
   ]
  },
  {
   "cell_type": "code",
   "execution_count": null,
   "id": "b4604b27",
   "metadata": {},
   "outputs": [],
   "source": [
    "from great_expectations.expectations.expectation import (\n",
    "    ExpectationConfiguration,\n",
    ")\n",
    "\n",
    "c_custkey = ExpectationConfiguration(\n",
    "    expectation_type=\"expect_column_values_to_not_be_null\",\n",
    "    kwargs={\n",
    "        \"column\": \"c_custkey\",\n",
    "        \"mostly\": 0.75,\n",
    "    },\n",
    ")\n",
    "\n",
    "suite.add_expectation(\n",
    "    expectation_configuration=c_custkey\n",
    ")\n",
    "\n",
    "c_name = ExpectationConfiguration(\n",
    "    expectation_type=\"expect_column_values_to_not_be_null\",\n",
    "    kwargs={\n",
    "        \"column\": \"c_name\",\n",
    "        \"mostly\": 0.75,\n",
    "    },\n",
    "\n",
    ")\n",
    "suite.add_expectation(\n",
    "    expectation_configuration=c_name\n",
    ")\n"
   ]
  },
  {
   "cell_type": "code",
   "execution_count": null,
   "id": "b688ba82",
   "metadata": {},
   "outputs": [],
   "source": [
    "context.save_expectation_suite(expectation_suite=suite)"
   ]
  },
  {
   "cell_type": "code",
   "execution_count": null,
   "id": "cf574dff",
   "metadata": {},
   "outputs": [],
   "source": [
    "%%markdown\n",
    "\n",
    "## Manage a Checkpoint"
   ]
  },
  {
   "cell_type": "code",
   "execution_count": null,
   "id": "9283478a",
   "metadata": {},
   "outputs": [],
   "source": [
    "sf_checkpoint = context.add_or_update_checkpoint(\n",
    "    name=\"sf_customer_checkpoint\",\n",
    "    validations=[\n",
    "        {\n",
    "            \"batch_request\": sf_batch_request,\n",
    "            \"expectation_suite_name\": suite_name,\n",
    "        },\n",
    "    ],\n",
    ")"
   ]
  },
  {
   "cell_type": "code",
   "execution_count": null,
   "id": "7c49332e",
   "metadata": {},
   "outputs": [],
   "source": [
    "checkpoint_result = sf_checkpoint.run()"
   ]
  },
  {
   "cell_type": "code",
   "execution_count": null,
   "id": "aca11313",
   "metadata": {},
   "outputs": [],
   "source": [
    "%%markdown\n",
    "\n",
    "## playground\n"
   ]
  },
  {
   "cell_type": "code",
   "execution_count": null,
   "id": "9c94adb4",
   "metadata": {},
   "outputs": [],
   "source": [
    "from great_expectations.expectations.expectation import (\n",
    "    ExpectationConfiguration,\n",
    ")\n",
    "\n",
    "suite_name = \"sf_suite\"\n",
    "suite = context.get_expectation_suite(expectation_suite_name= suite_name)\n",
    "\n",
    "c_phone = ExpectationConfiguration(\n",
    "    expectation_type=\"expect_column_value_lengths_to_equal\",\n",
    "    kwargs={\n",
    "        \"column\": \"c_phone\",\n",
    "        \"value\":15,\n",
    "        \"mostly\": 1,\n",
    "    },\n",
    "\n",
    ")\n",
    "suite.add_expectation(\n",
    "    expectation_configuration=c_phone\n",
    ")\n",
    "\n",
    "context.save_expectation_suite(expectation_suite=suite)"
   ]
  },
  {
   "cell_type": "code",
   "execution_count": null,
   "id": "947caee1",
   "metadata": {},
   "outputs": [],
   "source": [
    "import great_expectations as gx\n",
    "\n",
    "context = gx.get_context()\n",
    "\n",
    "sf_checkpoint = context.get_checkpoint(\"sf_customer_checkpoint\")\n",
    "\n",
    "checkpoint_result = sf_checkpoint.run()"
   ]
  },
  {
   "cell_type": "code",
   "execution_count": null,
   "id": "8c276cb6",
   "metadata": {},
   "outputs": [],
   "source": [
    "context.open_data_docs()"
   ]
  },
  {
   "cell_type": "code",
   "execution_count": null,
   "id": "4a0a7844",
   "metadata": {},
   "outputs": [],
   "source": [
    "checkpoint_result"
   ]
  },
  {
   "cell_type": "code",
   "execution_count": null,
   "id": "ba9da852",
   "metadata": {},
   "outputs": [],
   "source": [
    "import great_expectations as gx\n",
    "context = gx.get_context()\n",
    "context.run_checkpoint(checkpoint_name=sf_checkpoint)"
   ]
  },
  {
   "cell_type": "code",
   "execution_count": null,
   "id": "5999dddf",
   "metadata": {},
   "outputs": [],
   "source": [
    "import great_expectations as gx\n",
    "\n",
    "context = gx.get_context()\n",
    "\n",
    "context"
   ]
  },
  {
   "cell_type": "code",
   "execution_count": null,
   "id": "620c0794",
   "metadata": {},
   "outputs": [],
   "source": []
  }
 ],
 "metadata": {
  "kernelspec": {
   "display_name": "Python 3 (ipykernel)",
   "language": "python",
   "name": "python3"
  },
  "language_info": {
   "codemirror_mode": {
    "name": "ipython",
    "version": 3
   },
   "file_extension": ".py",
   "mimetype": "text/x-python",
   "name": "python",
   "nbconvert_exporter": "python",
   "pygments_lexer": "ipython3",
   "version": "3.10.12"
  }
 },
 "nbformat": 4,
 "nbformat_minor": 5
}
