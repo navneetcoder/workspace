{
 "cells": [
  {
   "cell_type": "code",
   "execution_count": null,
   "id": "944c3cda-6964-41d8-84d0-a5f38cc3d133",
   "metadata": {},
   "outputs": [],
   "source": [
    "%%markdown\n",
    "\n",
    "## Initialize and Instantiate a File System Data Context"
   ]
  },
  {
   "cell_type": "code",
   "execution_count": null,
   "id": "d05f1b1a",
   "metadata": {},
   "outputs": [],
   "source": [
    "import great_expectations as gx\n",
    "\n",
    "context = gx.get_context().convert_to_file_context()\n",
    "\n",
    "context"
   ]
  },
  {
   "cell_type": "code",
   "execution_count": null,
   "id": "64a346b1",
   "metadata": {},
   "outputs": [],
   "source": [
    "%%markdown\n",
    "## Connect to a Data Source (Snowflake)"
   ]
  },
  {
   "cell_type": "code",
   "execution_count": null,
   "id": "31f0e317",
   "metadata": {},
   "outputs": [],
   "source": [
    "import urllib.parse\n",
    "\n",
    "# username = urllib.parse.quote(\"username\")\n",
    "# password = urllib.parse.quote(\"password\")\n",
    "# account = \"account_locator\"\n",
    "# database = \"database\"\n",
    "# schema = \"schema\"\n",
    "# warehouse = \"warehoues\"\n",
    "# role = \"role\"\n",
    "\n",
    "sf_connection_string = f\"snowflake://{username}:{password}@{account}/{database}/{schema}?warehouse={warehouse}&role={role}\"\n",
    "\n",
    "datasource_name = \"sf_datasource\"\n",
    "\n",
    "datasource = context.sources.add_or_update_snowflake(\n",
    "    name=datasource_name, \n",
    "    connection_string=sf_connection_string\n",
    ")"
   ]
  },
  {
   "cell_type": "code",
   "execution_count": null,
   "id": "1e793de4-0d24-4b7b-a62e-9cc2d9b36c38",
   "metadata": {},
   "outputs": [],
   "source": [
    "import great_expectations as ge\n",
    "context = ge.get_context()"
   ]
  },
  {
   "cell_type": "code",
   "execution_count": null,
   "id": "82c47ac4-45bd-4702-90e5-1a9ac8d53015",
   "metadata": {},
   "outputs": [],
   "source": [
    "context.delete_datasource(datasource_name=\"SF_DATASOURCE\")"
   ]
  },
  {
   "cell_type": "code",
   "execution_count": null,
   "id": "a8d0f8a9-ea86-458e-8081-0dc8691ad875",
   "metadata": {
    "scrolled": true
   },
   "outputs": [],
   "source": [
    "context.run_checkpoint(checkpoint_name='sf_customer_checkpoint');"
   ]
  },
  {
   "cell_type": "code",
   "execution_count": 34,
   "id": "ef1f34d6-6b67-4926-a8c6-84da1b1edec4",
   "metadata": {
    "scrolled": true
   },
   "outputs": [
    {
     "name": "stdout",
     "output_type": "stream",
     "text": [
      "%24%7Busername%7D %7Bpassword%7D ${account}\n"
     ]
    },
    {
     "ename": "TestConnectionError",
     "evalue": "Attempt to connect to datasource failed with the following error message: Unable to create a SQLAlchemy engine due to the following exception: \n\nUnable to find a match for config substitution variable: `warehoues`.\n    Please add this missing variable to your `uncommitted/config_variables.yml` file or your environment variables.\n    See https://docs.greatexpectations.io/docs/guides/setup/configuring_data_contexts/how_to_configure_credentials",
     "output_type": "error",
     "traceback": [
      "\u001b[0;31m---------------------------------------------------------------------------\u001b[0m",
      "\u001b[0;31mMissingConfigVariableError\u001b[0m                Traceback (most recent call last)",
      "File \u001b[0;32m/usr/local/python/3.10.13/lib/python3.10/site-packages/great_expectations/datasource/fluent/snowflake_datasource.py:209\u001b[0m, in \u001b[0;36mSnowflakeDatasource.get_engine\u001b[0;34m(self)\u001b[0m\n\u001b[1;32m    208\u001b[0m \u001b[38;5;28;01mtry\u001b[39;00m:\n\u001b[0;32m--> 209\u001b[0m     model_dict \u001b[38;5;241m=\u001b[39m \u001b[38;5;28;43mself\u001b[39;49m\u001b[38;5;241;43m.\u001b[39;49m\u001b[43mdict\u001b[49m\u001b[43m(\u001b[49m\n\u001b[1;32m    210\u001b[0m \u001b[43m        \u001b[49m\u001b[43mexclude\u001b[49m\u001b[38;5;241;43m=\u001b[39;49m\u001b[38;5;28;43mself\u001b[39;49m\u001b[38;5;241;43m.\u001b[39;49m\u001b[43m_get_exec_engine_excludes\u001b[49m\u001b[43m(\u001b[49m\u001b[43m)\u001b[49m\u001b[43m,\u001b[49m\n\u001b[1;32m    211\u001b[0m \u001b[43m        \u001b[49m\u001b[43mconfig_provider\u001b[49m\u001b[38;5;241;43m=\u001b[39;49m\u001b[38;5;28;43mself\u001b[39;49m\u001b[38;5;241;43m.\u001b[39;49m\u001b[43m_config_provider\u001b[49m\u001b[43m,\u001b[49m\n\u001b[1;32m    212\u001b[0m \u001b[43m    \u001b[49m\u001b[43m)\u001b[49m\n\u001b[1;32m    213\u001b[0m     _check_config_substitutions_needed(\n\u001b[1;32m    214\u001b[0m         \u001b[38;5;28mself\u001b[39m, model_dict, raise_warning_if_provider_not_present\u001b[38;5;241m=\u001b[39m\u001b[38;5;28;01mTrue\u001b[39;00m\n\u001b[1;32m    215\u001b[0m     )\n",
      "File \u001b[0;32m/usr/local/python/3.10.13/lib/python3.10/site-packages/great_expectations/datasource/fluent/fluent_base_model.py:268\u001b[0m, in \u001b[0;36mFluentBaseModel.dict\u001b[0;34m(self, include, exclude, by_alias, exclude_unset, exclude_defaults, exclude_none, skip_defaults, config_provider, raise_on_missing_config_provider)\u001b[0m\n\u001b[1;32m    267\u001b[0m     logger\u001b[38;5;241m.\u001b[39mdebug(\u001b[38;5;124mf\u001b[39m\u001b[38;5;124m\"\u001b[39m\u001b[38;5;132;01m{\u001b[39;00mclass_name\u001b[38;5;132;01m}\u001b[39;00m\u001b[38;5;124m.dict() - substituting config values\u001b[39m\u001b[38;5;124m\"\u001b[39m)\n\u001b[0;32m--> 268\u001b[0m     \u001b[43m_recursively_set_config_value\u001b[49m\u001b[43m(\u001b[49m\u001b[43mresult\u001b[49m\u001b[43m,\u001b[49m\u001b[43m \u001b[49m\u001b[43mconfig_provider\u001b[49m\u001b[43m)\u001b[49m\n\u001b[1;32m    269\u001b[0m \u001b[38;5;28;01melif\u001b[39;00m raise_on_missing_config_provider:\n",
      "File \u001b[0;32m/usr/local/python/3.10.13/lib/python3.10/site-packages/great_expectations/datasource/fluent/fluent_base_model.py:315\u001b[0m, in \u001b[0;36m_recursively_set_config_value\u001b[0;34m(data, config_provider)\u001b[0m\n\u001b[1;32m    314\u001b[0m \u001b[38;5;28;01mif\u001b[39;00m \u001b[38;5;28misinstance\u001b[39m(v, ConfigStr):\n\u001b[0;32m--> 315\u001b[0m     data[k] \u001b[38;5;241m=\u001b[39m \u001b[43mv\u001b[49m\u001b[38;5;241;43m.\u001b[39;49m\u001b[43mget_config_value\u001b[49m\u001b[43m(\u001b[49m\u001b[43mconfig_provider\u001b[49m\u001b[43m)\u001b[49m\n\u001b[1;32m    316\u001b[0m \u001b[38;5;28;01melif\u001b[39;00m \u001b[38;5;28misinstance\u001b[39m(v, (MutableMapping, MutableSequence)):\n",
      "File \u001b[0;32m/usr/local/python/3.10.13/lib/python3.10/site-packages/great_expectations/datasource/fluent/config_str.py:43\u001b[0m, in \u001b[0;36mConfigStr.get_config_value\u001b[0;34m(self, config_provider)\u001b[0m\n\u001b[1;32m     42\u001b[0m LOGGER\u001b[38;5;241m.\u001b[39minfo(\u001b[38;5;124mf\u001b[39m\u001b[38;5;124m\"\u001b[39m\u001b[38;5;124mSubstituting \u001b[39m\u001b[38;5;124m'\u001b[39m\u001b[38;5;132;01m{\u001b[39;00m\u001b[38;5;28mself\u001b[39m\u001b[38;5;132;01m}\u001b[39;00m\u001b[38;5;124m'\u001b[39m\u001b[38;5;124m\"\u001b[39m)\n\u001b[0;32m---> 43\u001b[0m \u001b[38;5;28;01mreturn\u001b[39;00m \u001b[43mconfig_provider\u001b[49m\u001b[38;5;241;43m.\u001b[39;49m\u001b[43msubstitute_config\u001b[49m\u001b[43m(\u001b[49m\u001b[38;5;28;43mself\u001b[39;49m\u001b[38;5;241;43m.\u001b[39;49m\u001b[43mtemplate_str\u001b[49m\u001b[43m)\u001b[49m\n",
      "File \u001b[0;32m/usr/local/python/3.10.13/lib/python3.10/site-packages/great_expectations/core/config_provider.py:45\u001b[0m, in \u001b[0;36m_AbstractConfigurationProvider.substitute_config\u001b[0;34m(self, config, config_values)\u001b[0m\n\u001b[1;32m     44\u001b[0m     config_values \u001b[38;5;241m=\u001b[39m \u001b[38;5;28mself\u001b[39m\u001b[38;5;241m.\u001b[39mget_values()\n\u001b[0;32m---> 45\u001b[0m \u001b[38;5;28;01mreturn\u001b[39;00m \u001b[38;5;28;43mself\u001b[39;49m\u001b[38;5;241;43m.\u001b[39;49m\u001b[43m_substitutor\u001b[49m\u001b[38;5;241;43m.\u001b[39;49m\u001b[43msubstitute_all_config_variables\u001b[49m\u001b[43m(\u001b[49m\u001b[43mconfig\u001b[49m\u001b[43m,\u001b[49m\u001b[43m \u001b[49m\u001b[43mconfig_values\u001b[49m\u001b[43m)\u001b[49m\n",
      "File \u001b[0;32m/usr/local/python/3.10.13/lib/python3.10/site-packages/great_expectations/core/config_substitutor.py:74\u001b[0m, in \u001b[0;36m_ConfigurationSubstitutor.substitute_all_config_variables\u001b[0;34m(self, data, replace_variables_dict, dollar_sign_escape_string)\u001b[0m\n\u001b[1;32m     70\u001b[0m     \u001b[38;5;28;01mreturn\u001b[39;00m [\n\u001b[1;32m     71\u001b[0m         \u001b[38;5;28mself\u001b[39m\u001b[38;5;241m.\u001b[39msubstitute_all_config_variables(v, replace_variables_dict)\n\u001b[1;32m     72\u001b[0m         \u001b[38;5;28;01mfor\u001b[39;00m v \u001b[38;5;129;01min\u001b[39;00m data\n\u001b[1;32m     73\u001b[0m     ]\n\u001b[0;32m---> 74\u001b[0m \u001b[38;5;28;01mreturn\u001b[39;00m \u001b[38;5;28;43mself\u001b[39;49m\u001b[38;5;241;43m.\u001b[39;49m\u001b[43msubstitute_config_variable\u001b[49m\u001b[43m(\u001b[49m\n\u001b[1;32m     75\u001b[0m \u001b[43m    \u001b[49m\u001b[43mdata\u001b[49m\u001b[43m,\u001b[49m\u001b[43m \u001b[49m\u001b[43mreplace_variables_dict\u001b[49m\u001b[43m,\u001b[49m\u001b[43m \u001b[49m\u001b[43mdollar_sign_escape_string\u001b[49m\n\u001b[1;32m     76\u001b[0m \u001b[43m\u001b[49m\u001b[43m)\u001b[49m\n",
      "File \u001b[0;32m/usr/local/python/3.10.13/lib/python3.10/site-packages/great_expectations/core/config_substitutor.py:131\u001b[0m, in \u001b[0;36m_ConfigurationSubstitutor.substitute_config_variable\u001b[0;34m(self, template_str, config_variables_dict, dollar_sign_escape_string)\u001b[0m\n\u001b[1;32m    130\u001b[0m         \u001b[38;5;28;01melse\u001b[39;00m:\n\u001b[0;32m--> 131\u001b[0m             \u001b[38;5;28;01mraise\u001b[39;00m gx_exceptions\u001b[38;5;241m.\u001b[39mMissingConfigVariableError(\n\u001b[1;32m    132\u001b[0m                 \u001b[38;5;124mf\u001b[39m\u001b[38;5;124m\"\"\"\u001b[39m\u001b[38;5;130;01m\\n\u001b[39;00m\u001b[38;5;130;01m\\n\u001b[39;00m\u001b[38;5;124mUnable to find a match for config substitution variable: `\u001b[39m\u001b[38;5;132;01m{\u001b[39;00mconfig_variable_name\u001b[38;5;132;01m}\u001b[39;00m\u001b[38;5;124m`.\u001b[39m\n\u001b[1;32m    133\u001b[0m \u001b[38;5;124mPlease add this missing variable to your `uncommitted/config_variables.yml` file or your environment variables.\u001b[39m\n\u001b[1;32m    134\u001b[0m \u001b[38;5;124mSee https://docs.greatexpectations.io/docs/guides/setup/configuring_data_contexts/how_to_configure_credentials\u001b[39m\u001b[38;5;124m\"\"\"\u001b[39m,\n\u001b[1;32m    135\u001b[0m                 missing_config_variable\u001b[38;5;241m=\u001b[39mconfig_variable_name,\n\u001b[1;32m    136\u001b[0m             )\n\u001b[1;32m    138\u001b[0m     \u001b[38;5;66;03m# 2. Replace the \"$\"'s that had been escaped\u001b[39;00m\n",
      "\u001b[0;31mMissingConfigVariableError\u001b[0m: \n\nUnable to find a match for config substitution variable: `warehoues`.\n    Please add this missing variable to your `uncommitted/config_variables.yml` file or your environment variables.\n    See https://docs.greatexpectations.io/docs/guides/setup/configuring_data_contexts/how_to_configure_credentials",
      "\nThe above exception was the direct cause of the following exception:\n",
      "\u001b[0;31mSQLDatasourceError\u001b[0m                        Traceback (most recent call last)",
      "File \u001b[0;32m/usr/local/python/3.10.13/lib/python3.10/site-packages/great_expectations/datasource/fluent/sql_datasource.py:1142\u001b[0m, in \u001b[0;36mSQLDatasource.test_connection\u001b[0;34m(self, test_assets)\u001b[0m\n\u001b[1;32m   1141\u001b[0m \u001b[38;5;28;01mtry\u001b[39;00m:\n\u001b[0;32m-> 1142\u001b[0m     engine: sqlalchemy\u001b[38;5;241m.\u001b[39mEngine \u001b[38;5;241m=\u001b[39m \u001b[38;5;28;43mself\u001b[39;49m\u001b[38;5;241;43m.\u001b[39;49m\u001b[43mget_engine\u001b[49m\u001b[43m(\u001b[49m\u001b[43m)\u001b[49m\n\u001b[1;32m   1143\u001b[0m     engine\u001b[38;5;241m.\u001b[39mconnect()\n",
      "File \u001b[0;32m/usr/local/python/3.10.13/lib/python3.10/site-packages/great_expectations/datasource/fluent/snowflake_datasource.py:230\u001b[0m, in \u001b[0;36mSnowflakeDatasource.get_engine\u001b[0;34m(self)\u001b[0m\n\u001b[1;32m    227\u001b[0m \u001b[38;5;28;01mexcept\u001b[39;00m \u001b[38;5;167;01mException\u001b[39;00m \u001b[38;5;28;01mas\u001b[39;00m e:\n\u001b[1;32m    228\u001b[0m     \u001b[38;5;66;03m# connection_string has passed pydantic validation, but still fails to create a sqlalchemy engine\u001b[39;00m\n\u001b[1;32m    229\u001b[0m     \u001b[38;5;66;03m# one possible case is a missing plugin (e.g. psycopg2)\u001b[39;00m\n\u001b[0;32m--> 230\u001b[0m     \u001b[38;5;28;01mraise\u001b[39;00m SQLDatasourceError(\n\u001b[1;32m    231\u001b[0m         \u001b[38;5;124m\"\u001b[39m\u001b[38;5;124mUnable to create a SQLAlchemy engine due to the \u001b[39m\u001b[38;5;124m\"\u001b[39m\n\u001b[1;32m    232\u001b[0m         \u001b[38;5;124mf\u001b[39m\u001b[38;5;124m\"\u001b[39m\u001b[38;5;124mfollowing exception: \u001b[39m\u001b[38;5;132;01m{\u001b[39;00me\u001b[38;5;132;01m!s}\u001b[39;00m\u001b[38;5;124m\"\u001b[39m\n\u001b[1;32m    233\u001b[0m     ) \u001b[38;5;28;01mfrom\u001b[39;00m \u001b[38;5;21;01me\u001b[39;00m\n\u001b[1;32m    234\u001b[0m \u001b[38;5;66;03m# Since a connection string isn't strictly required for Snowflake, we conditionally cache\u001b[39;00m\n",
      "\u001b[0;31mSQLDatasourceError\u001b[0m: Unable to create a SQLAlchemy engine due to the following exception: \n\nUnable to find a match for config substitution variable: `warehoues`.\n    Please add this missing variable to your `uncommitted/config_variables.yml` file or your environment variables.\n    See https://docs.greatexpectations.io/docs/guides/setup/configuring_data_contexts/how_to_configure_credentials",
      "\nThe above exception was the direct cause of the following exception:\n",
      "\u001b[0;31mTestConnectionError\u001b[0m                       Traceback (most recent call last)",
      "Cell \u001b[0;32mIn[34], line 20\u001b[0m\n\u001b[1;32m     16\u001b[0m sf_connection_string \u001b[38;5;241m=\u001b[39m \u001b[38;5;124mf\u001b[39m\u001b[38;5;124m\"\u001b[39m\u001b[38;5;124msnowflake://\u001b[39m\u001b[38;5;132;01m{\u001b[39;00musername\u001b[38;5;132;01m}\u001b[39;00m\u001b[38;5;124m:\u001b[39m\u001b[38;5;132;01m{\u001b[39;00mpassword\u001b[38;5;132;01m}\u001b[39;00m\u001b[38;5;124m@\u001b[39m\u001b[38;5;132;01m{\u001b[39;00maccount\u001b[38;5;132;01m}\u001b[39;00m\u001b[38;5;124m/\u001b[39m\u001b[38;5;132;01m{\u001b[39;00mdatabase\u001b[38;5;132;01m}\u001b[39;00m\u001b[38;5;124m/\u001b[39m\u001b[38;5;132;01m{\u001b[39;00mschema\u001b[38;5;132;01m}\u001b[39;00m\u001b[38;5;124m?warehouse=\u001b[39m\u001b[38;5;132;01m{\u001b[39;00mwarehouse\u001b[38;5;132;01m}\u001b[39;00m\u001b[38;5;124m&role=\u001b[39m\u001b[38;5;132;01m{\u001b[39;00mrole\u001b[38;5;132;01m}\u001b[39;00m\u001b[38;5;124m\"\u001b[39m\n\u001b[1;32m     18\u001b[0m datasource_name \u001b[38;5;241m=\u001b[39m \u001b[38;5;124m\"\u001b[39m\u001b[38;5;124msf_datasource\u001b[39m\u001b[38;5;124m\"\u001b[39m\n\u001b[0;32m---> 20\u001b[0m datasource \u001b[38;5;241m=\u001b[39m \u001b[43mcontext\u001b[49m\u001b[38;5;241;43m.\u001b[39;49m\u001b[43msources\u001b[49m\u001b[38;5;241;43m.\u001b[39;49m\u001b[43madd_or_update_snowflake\u001b[49m\u001b[43m(\u001b[49m\n\u001b[1;32m     21\u001b[0m \u001b[43m    \u001b[49m\u001b[43mname\u001b[49m\u001b[38;5;241;43m=\u001b[39;49m\u001b[43mdatasource_name\u001b[49m\u001b[43m,\u001b[49m\u001b[43m \u001b[49m\n\u001b[1;32m     22\u001b[0m \u001b[43m    \u001b[49m\u001b[43mconnection_string\u001b[49m\u001b[38;5;241;43m=\u001b[39;49m\u001b[43msf_connection_string\u001b[49m\n\u001b[1;32m     23\u001b[0m \u001b[43m)\u001b[49m\n",
      "File \u001b[0;32m/usr/local/python/3.10.13/lib/python3.10/site-packages/great_expectations/datasource/fluent/sources.py:578\u001b[0m, in \u001b[0;36m_SourceFactories.create_add_or_update_crud_method.<locals>.add_or_update_datasource\u001b[0;34m(name_or_datasource, **kwargs)\u001b[0m\n\u001b[1;32m    575\u001b[0m     new_datasource\u001b[38;5;241m.\u001b[39mid \u001b[38;5;241m=\u001b[39m id_\n\u001b[1;32m    577\u001b[0m new_datasource\u001b[38;5;241m.\u001b[39m_data_context \u001b[38;5;241m=\u001b[39m \u001b[38;5;28mself\u001b[39m\u001b[38;5;241m.\u001b[39m_data_context\n\u001b[0;32m--> 578\u001b[0m \u001b[43mnew_datasource\u001b[49m\u001b[38;5;241;43m.\u001b[39;49m\u001b[43mtest_connection\u001b[49m\u001b[43m(\u001b[49m\u001b[43m)\u001b[49m\n\u001b[1;32m    579\u001b[0m \u001b[38;5;28;01mif\u001b[39;00m datasource_name \u001b[38;5;129;01min\u001b[39;00m \u001b[38;5;28mself\u001b[39m\u001b[38;5;241m.\u001b[39m_data_context\u001b[38;5;241m.\u001b[39mdatasources:\n\u001b[1;32m    580\u001b[0m     return_obj \u001b[38;5;241m=\u001b[39m \u001b[38;5;28mself\u001b[39m\u001b[38;5;241m.\u001b[39m_data_context\u001b[38;5;241m.\u001b[39m_update_fluent_datasource(\n\u001b[1;32m    581\u001b[0m         datasource\u001b[38;5;241m=\u001b[39mnew_datasource\n\u001b[1;32m    582\u001b[0m     )\n",
      "File \u001b[0;32m/usr/local/python/3.10.13/lib/python3.10/site-packages/great_expectations/datasource/fluent/sql_datasource.py:1145\u001b[0m, in \u001b[0;36mSQLDatasource.test_connection\u001b[0;34m(self, test_assets)\u001b[0m\n\u001b[1;32m   1143\u001b[0m     engine\u001b[38;5;241m.\u001b[39mconnect()\n\u001b[1;32m   1144\u001b[0m \u001b[38;5;28;01mexcept\u001b[39;00m \u001b[38;5;167;01mException\u001b[39;00m \u001b[38;5;28;01mas\u001b[39;00m e:\n\u001b[0;32m-> 1145\u001b[0m     \u001b[38;5;28;01mraise\u001b[39;00m TestConnectionError(\n\u001b[1;32m   1146\u001b[0m         \u001b[38;5;124m\"\u001b[39m\u001b[38;5;124mAttempt to connect to datasource failed with the following error message: \u001b[39m\u001b[38;5;124m\"\u001b[39m\n\u001b[1;32m   1147\u001b[0m         \u001b[38;5;124mf\u001b[39m\u001b[38;5;124m\"\u001b[39m\u001b[38;5;132;01m{\u001b[39;00me\u001b[38;5;132;01m!s}\u001b[39;00m\u001b[38;5;124m\"\u001b[39m\n\u001b[1;32m   1148\u001b[0m     ) \u001b[38;5;28;01mfrom\u001b[39;00m \u001b[38;5;21;01me\u001b[39;00m\n\u001b[1;32m   1149\u001b[0m \u001b[38;5;28;01mif\u001b[39;00m \u001b[38;5;28mself\u001b[39m\u001b[38;5;241m.\u001b[39massets \u001b[38;5;129;01mand\u001b[39;00m test_assets:\n\u001b[1;32m   1150\u001b[0m     \u001b[38;5;28;01mfor\u001b[39;00m asset \u001b[38;5;129;01min\u001b[39;00m \u001b[38;5;28mself\u001b[39m\u001b[38;5;241m.\u001b[39massets:\n",
      "\u001b[0;31mTestConnectionError\u001b[0m: Attempt to connect to datasource failed with the following error message: Unable to create a SQLAlchemy engine due to the following exception: \n\nUnable to find a match for config substitution variable: `warehoues`.\n    Please add this missing variable to your `uncommitted/config_variables.yml` file or your environment variables.\n    See https://docs.greatexpectations.io/docs/guides/setup/configuring_data_contexts/how_to_configure_credentials"
     ]
    }
   ],
   "source": [
    "import urllib.parse\n",
    "import great_expectations as ge\n",
    "\n",
    "context = ge.get_context()\n",
    "username = urllib.parse.quote(\"${username}\")\n",
    "password = urllib.parse.quote(\"{password}\")\n",
    "account = \"${account}\"\n",
    "database =\"${database}\"\n",
    "schema = \"${schema}\"\n",
    "warehouse = \"${warehouse}\"\n",
    "role = \"${role}\"\n",
    "\n",
    "print(username, password, account)\n",
    "\n",
    "\n",
    "sf_connection_string = f\"snowflake://{username}:{password}@{account}/{database}/{schema}?warehouse={warehouse}&role={role}\"\n",
    "\n",
    "datasource_name = \"sf_datasource\"\n",
    "\n",
    "datasource = context.sources.add_or_update_snowflake(\n",
    "    name=datasource_name, \n",
    "    connection_string=sf_connection_string\n",
    ")"
   ]
  },
  {
   "cell_type": "code",
   "execution_count": null,
   "id": "d27fb495",
   "metadata": {},
   "outputs": [],
   "source": [
    "%%markdown\n",
    "\n",
    "## Manage Data Assets"
   ]
  },
  {
   "cell_type": "code",
   "execution_count": null,
   "id": "25b8da7d",
   "metadata": {},
   "outputs": [],
   "source": [
    "datasoure = context.get_datasource(datasource_name)\n",
    "\n",
    "datasource"
   ]
  },
  {
   "cell_type": "code",
   "execution_count": null,
   "id": "41f22f0e",
   "metadata": {},
   "outputs": [],
   "source": [
    "asset_name = \"customer_asset\"\n",
    "query = \"select * from customer\"\n",
    "\n",
    "sf_query_asset = datasource.add_query_asset(name=asset_name, query=query)\n"
   ]
  },
  {
   "cell_type": "code",
   "execution_count": null,
   "id": "e28d7904",
   "metadata": {},
   "outputs": [],
   "source": [
    "%%markdown\n",
    "\n",
    "## Build Batch Request"
   ]
  },
  {
   "cell_type": "code",
   "execution_count": null,
   "id": "ea29d37d",
   "metadata": {},
   "outputs": [],
   "source": [
    "sf_batch_request = sf_query_asset.build_batch_request()\n",
    "\n",
    "sf_batch_request"
   ]
  },
  {
   "cell_type": "code",
   "execution_count": null,
   "id": "2df07030",
   "metadata": {},
   "outputs": [],
   "source": [
    "batches = sf_query_asset.get_batch_list_from_batch_request(sf_batch_request)\n",
    "\n",
    "for batch in batches:\n",
    "    print(batch.batch_spec)"
   ]
  },
  {
   "cell_type": "code",
   "execution_count": null,
   "id": "f06f9103",
   "metadata": {},
   "outputs": [],
   "source": [
    "%%markdown\n",
    "\n",
    "## Create Expectations\n"
   ]
  },
  {
   "cell_type": "code",
   "execution_count": null,
   "id": "b2da83b7",
   "metadata": {},
   "outputs": [],
   "source": [
    "suite_name = \"sf_suite\"\n",
    "suite = context.add_expectation_suite(expectation_suite_name= suite_name)"
   ]
  },
  {
   "cell_type": "code",
   "execution_count": null,
   "id": "b4604b27",
   "metadata": {},
   "outputs": [],
   "source": [
    "from great_expectations.expectations.expectation import (\n",
    "    ExpectationConfiguration,\n",
    ")\n",
    "\n",
    "c_custkey = ExpectationConfiguration(\n",
    "    expectation_type=\"expect_column_values_to_not_be_null\",\n",
    "    kwargs={\n",
    "        \"column\": \"c_custkey\",\n",
    "        \"mostly\": 0.75,\n",
    "    },\n",
    ")\n",
    "\n",
    "suite.add_expectation(\n",
    "    expectation_configuration=c_custkey\n",
    ")\n",
    "\n",
    "c_name = ExpectationConfiguration(\n",
    "    expectation_type=\"expect_column_values_to_not_be_null\",\n",
    "    kwargs={\n",
    "        \"column\": \"c_name\",\n",
    "        \"mostly\": 0.75,\n",
    "    },\n",
    "\n",
    ")\n",
    "suite.add_expectation(\n",
    "    expectation_configuration=c_name\n",
    ")\n"
   ]
  },
  {
   "cell_type": "code",
   "execution_count": null,
   "id": "b688ba82",
   "metadata": {},
   "outputs": [],
   "source": [
    "context.save_expectation_suite(expectation_suite=suite)"
   ]
  },
  {
   "cell_type": "code",
   "execution_count": null,
   "id": "cf574dff",
   "metadata": {},
   "outputs": [],
   "source": [
    "%%markdown\n",
    "\n",
    "## Manage a Checkpoint"
   ]
  },
  {
   "cell_type": "code",
   "execution_count": null,
   "id": "9283478a",
   "metadata": {},
   "outputs": [],
   "source": [
    "sf_checkpoint = context.add_or_update_checkpoint(\n",
    "    name=\"sf_customer_checkpoint\",\n",
    "    validations=[\n",
    "        {\n",
    "            \"batch_request\": sf_batch_request,\n",
    "            \"expectation_suite_name\": suite_name,\n",
    "        },\n",
    "    ],\n",
    ")"
   ]
  },
  {
   "cell_type": "code",
   "execution_count": null,
   "id": "7c49332e",
   "metadata": {},
   "outputs": [],
   "source": [
    "checkpoint_result = sf_checkpoint.run()"
   ]
  },
  {
   "cell_type": "code",
   "execution_count": null,
   "id": "aca11313",
   "metadata": {},
   "outputs": [],
   "source": [
    "%%markdown\n",
    "\n",
    "## playground\n"
   ]
  },
  {
   "cell_type": "code",
   "execution_count": null,
   "id": "9c94adb4",
   "metadata": {},
   "outputs": [],
   "source": [
    "c_phone = ExpectationConfiguration(\n",
    "    expectation_type=\"expect_column_value_lengths_to_equal\",\n",
    "    kwargs={\n",
    "        \"column\": \"c_phone\",\n",
    "        \"value\":10,\n",
    "        \"mostly\": 1,\n",
    "    },\n",
    "\n",
    ")\n",
    "suite.add_expectation(\n",
    "    expectation_configuration=c_phone\n",
    ")\n",
    "\n",
    "context.save_expectation_suite(expectation_suite=suite)"
   ]
  },
  {
   "cell_type": "code",
   "execution_count": null,
   "id": "ba9da852",
   "metadata": {
    "scrolled": true
   },
   "outputs": [],
   "source": [
    "import great_expectations as gx\n",
    "context = gx.get_context()"
   ]
  },
  {
   "cell_type": "code",
   "execution_count": null,
   "id": "cbb8860d",
   "metadata": {},
   "outputs": [],
   "source": [
    "context.run_checkpoint(checkpoint_name=\"sf_customer_checkpoint\")"
   ]
  },
  {
   "cell_type": "code",
   "execution_count": null,
   "id": "ba4979e3-f55b-4b57-9bf0-0ecd3041b4c9",
   "metadata": {},
   "outputs": [],
   "source": []
  }
 ],
 "metadata": {
  "kernelspec": {
   "display_name": "Python 3 (ipykernel)",
   "language": "python",
   "name": "python3"
  },
  "language_info": {
   "codemirror_mode": {
    "name": "ipython",
    "version": 3
   },
   "file_extension": ".py",
   "mimetype": "text/x-python",
   "name": "python",
   "nbconvert_exporter": "python",
   "pygments_lexer": "ipython3",
   "version": "3.10.13"
  }
 },
 "nbformat": 4,
 "nbformat_minor": 5
}
